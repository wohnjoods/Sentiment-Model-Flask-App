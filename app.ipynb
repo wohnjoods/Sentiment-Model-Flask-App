{
 "cells": [
  {
   "cell_type": "code",
   "execution_count": 1,
   "metadata": {},
   "outputs": [
    {
     "name": "stderr",
     "output_type": "stream",
     "text": [
      "Using TensorFlow backend.\n"
     ]
    }
   ],
   "source": [
    "#our web app framework!\n",
    "\n",
    "#you could also generate a skeleton from scratch via\n",
    "#http://flask-appbuilder.readthedocs.io/en/latest/installation.html\n",
    "#Generating HTML from within Python is not fun, and actually pretty cumbersome because you have to do the\n",
    "#HTML escaping on your own to keep the application secure. Because of that Flask configures the Jinja2 template engine \n",
    "#for you automatically.\n",
    "\n",
    "#requests are objects that flask handles (get set post, etc)\n",
    "from flask import Flask, render_template,request\n",
    "#scientific computing library for saving, reading, and resizing images\n",
    "#from scipy.misc import imsave, imread, imresize\n",
    "#for matrix math\n",
    "import numpy as np\n",
    "#for importing our keras model\n",
    "import keras.models\n",
    "#for regular expressions, saves time dealing with string data\n",
    "import re\n",
    "#system level operations (like loading files)\n",
    "import sys \n",
    "#for reading operating system data\n",
    "import os\n",
    "#tell our app where our saved model is\n",
    "sys.path.append(os.path.abspath(\"./model2\"))\n",
    "#from load import * \n",
    "\n"
   ]
  },
  {
   "cell_type": "code",
   "execution_count": 4,
   "metadata": {},
   "outputs": [
    {
     "ename": "NameError",
     "evalue": "name 'init' is not defined",
     "output_type": "error",
     "traceback": [
      "\u001b[1;31m---------------------------------------------------------------------------\u001b[0m",
      "\u001b[1;31mNameError\u001b[0m                                 Traceback (most recent call last)",
      "\u001b[1;32m<ipython-input-4-4b06d648189b>\u001b[0m in \u001b[0;36m<module>\u001b[1;34m\u001b[0m\n\u001b[0;32m      4\u001b[0m \u001b[1;32mglobal\u001b[0m \u001b[0mmodel\u001b[0m\u001b[1;33m,\u001b[0m \u001b[0mgraph\u001b[0m\u001b[1;33m\u001b[0m\u001b[0m\n\u001b[0;32m      5\u001b[0m \u001b[1;31m#initialize these variables\u001b[0m\u001b[1;33m\u001b[0m\u001b[1;33m\u001b[0m\u001b[0m\n\u001b[1;32m----> 6\u001b[1;33m \u001b[0mmodel\u001b[0m\u001b[1;33m,\u001b[0m \u001b[0mgraph\u001b[0m \u001b[1;33m=\u001b[0m \u001b[0minit\u001b[0m\u001b[1;33m(\u001b[0m\u001b[1;33m)\u001b[0m\u001b[1;33m\u001b[0m\u001b[0m\n\u001b[0m\u001b[0;32m      7\u001b[0m \u001b[1;33m\u001b[0m\u001b[0m\n\u001b[0;32m      8\u001b[0m \u001b[1;33m\u001b[0m\u001b[0m\n",
      "\u001b[1;31mNameError\u001b[0m: name 'init' is not defined"
     ]
    }
   ],
   "source": [
    "#initalize our flask app\n",
    "app = Flask(__name__)\n",
    "#global vars for easy reusability\n",
    "global model, graph\n",
    "#initialize these variables\n",
    "model, graph = init()\n",
    "\n",
    "\n",
    "\n",
    "\n",
    "\n",
    "\n",
    "\n",
    "\n",
    "\n"
   ]
  },
  {
   "cell_type": "code",
   "execution_count": null,
   "metadata": {},
   "outputs": [],
   "source": [
    "#decoding an image from base64 into raw representation\n",
    "\n",
    "def convertImage(imgData1):\n",
    "\n",
    "\timgstr = re.search(r'base64,(.*)',imgData1).group(1)\n",
    "\n",
    "\t#print(imgstr)\n",
    "\n",
    "\twith open('output.png','wb') as output:\n",
    "\n",
    "\t\toutput.write(imgstr.decode('base64'))\n",
    "\n",
    "\t\n",
    "\n",
    "\n",
    "\n"
   ]
  },
  {
   "cell_type": "code",
   "execution_count": 3,
   "metadata": {},
   "outputs": [],
   "source": [
    "@app.route('/')\n",
    "def index():\n",
    "\n",
    "\t#initModel()\n",
    "\n",
    "\t#render out pre-built HTML file right on the index page\n",
    "\n",
    "\treturn render_template(\"index.html\")\n",
    "\n"
   ]
  },
  {
   "cell_type": "code",
   "execution_count": null,
   "metadata": {},
   "outputs": [],
   "source": [
    "@app.route('/predict/',methods=['GET','POST'])\n",
    "def predict():\n",
    "\n",
    "\t#whenever the predict method is called, we're going\n",
    "\n",
    "\t#to input the user drawn character as an image into the model\n",
    "\n",
    "\t#perform inference, and return the classification\n",
    "\n",
    "\t#get the raw data format of the image\n",
    "\n",
    "\timgData = request.get_data()\n",
    "\n",
    "\t#encode it into a suitable format\n",
    "\n",
    "\tconvertImage(imgData)\n",
    "\n",
    "\tprint \"debug\"\n",
    "\n",
    "\t#read the image into memory\n",
    "\n",
    "\tx = imread('output.png',mode='L')\n",
    "\n",
    "\t#compute a bit-wise inversion so black becomes white and vice versa\n",
    "\n",
    "\tx = np.invert(x)\n",
    "\n",
    "\t#make it the right size\n",
    "\n",
    "\tx = imresize(x,(28,28))\n",
    "\n",
    "\t#imshow(x)\n",
    "\n",
    "\t#convert to a 4D tensor to feed into our model\n",
    "\n",
    "\tx = x.reshape(1,28,28,1)\n",
    "\n",
    "\tprint \"debug2\"\n",
    "\n",
    "\t#in our computation graph\n",
    "\n",
    "\twith graph.as_default():\n",
    "\n",
    "\t\t#perform the prediction\n",
    "\n",
    "\t\tout = model.predict(x)\n",
    "\n",
    "\t\tprint(out)\n",
    "\n",
    "\t\tprint(np.argmax(out,axis=1))\n",
    "\n",
    "\t\tprint \"debug3\"\n",
    "\n",
    "\t\t#convert the response to a string\n",
    "\n",
    "\t\tresponse = np.array_str(np.argmax(out,axis=1))\n",
    "\n",
    "\t\treturn response\t\n",
    "\n",
    "\t\n"
   ]
  },
  {
   "cell_type": "code",
   "execution_count": null,
   "metadata": {},
   "outputs": [],
   "source": [
    "\n",
    "if __name__ == \"__main__\":\n",
    "\n",
    "\t#decide what port to run the app in\n",
    "\n",
    "\tport = int(os.environ.get('PORT', 5000))\n",
    "\n",
    "\t#run the app locally on the givn port\n",
    "\n",
    "\tapp.run(host='0.0.0.0', port=port)\n",
    "\n",
    "\t#optional if we want to run in debugging mode\n",
    "\n",
    "\t#app.run(debug=True)"
   ]
  }
 ],
 "metadata": {
  "kernelspec": {
   "display_name": "Python 3",
   "language": "python",
   "name": "python3"
  },
  "language_info": {
   "codemirror_mode": {
    "name": "ipython",
    "version": 3
   },
   "file_extension": ".py",
   "mimetype": "text/x-python",
   "name": "python",
   "nbconvert_exporter": "python",
   "pygments_lexer": "ipython3",
   "version": "3.6.4"
  }
 },
 "nbformat": 4,
 "nbformat_minor": 2
}
